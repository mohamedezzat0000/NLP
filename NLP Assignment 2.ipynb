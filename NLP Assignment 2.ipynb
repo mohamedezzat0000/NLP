{
 "cells": [
  {
   "cell_type": "markdown",
   "id": "3aba403f",
   "metadata": {},
   "source": [
    "# generate__documents"
   ]
  },
  {
   "cell_type": "code",
   "execution_count": 2,
   "id": "14a7801a",
   "metadata": {},
   "outputs": [],
   "source": [
    "from faker import Faker\n",
    "\n",
    "def generate_text(num_paragraphs=1):\n",
    "    \n",
    "    faker = Faker()\n",
    "    \n",
    "    return '\\n'.join(faker.paragraph() for i in range(num_paragraphs))\n"
   ]
  },
  {
   "cell_type": "code",
   "execution_count": 13,
   "id": "30921875",
   "metadata": {},
   "outputs": [
    {
     "data": {
      "text/plain": [
       "'Congress including look pick shoulder beautiful.\\nSuch impact management. Leave radio myself person direction.\\nUse beautiful establish certain manage table manager. Generation identify accept. Now piece keep same as administration.\\nAudience reality although new hot million travel. Attorney mother pay address its up evidence.\\nWater bad class everything reach at. Mention again choose usually step. Skill position theory role make force personal.'"
      ]
     },
     "execution_count": 13,
     "metadata": {},
     "output_type": "execute_result"
    }
   ],
   "source": [
    "import re \n",
    "\n",
    "\n",
    "text_generated_1 = generate_text(5)\n",
    "\n",
    "text_generated_2 = generate_text(5)\n",
    "\n",
    "text_generated_3 = generate_text(5)\n",
    "\n",
    "text_generated_4 = generate_text(5)\n",
    "\n",
    "text_generated_4"
   ]
  },
  {
   "cell_type": "markdown",
   "id": "be40ed8d",
   "metadata": {},
   "source": [
    "# Cleaning & Preprocessing"
   ]
  },
  {
   "cell_type": "code",
   "execution_count": 4,
   "id": "750f1b64",
   "metadata": {},
   "outputs": [],
   "source": [
    "import re\n",
    "\n",
    "text_generated_1= re.sub(r'[^a-zA-Z0-9\\s]', '', text_generated_1)\n",
    "\n",
    "text_generated_1=text_generated_1.lower()\n",
    "\n",
    "text_generated_2= re.sub(r'[^a-zA-Z0-9\\s]', '', text_generated_2)\n",
    "\n",
    "text_generated_2=text_generated_1.lower()\n",
    "\n",
    "text_generated_3= re.sub(r'[^a-zA-Z0-9\\s]', '', text_generated_3)\n",
    "\n",
    "text_generated_3=text_generated_3.lower()\n",
    "\n",
    "text_generated_4= re.sub(r'[^a-zA-Z0-9\\s]', '', text_generated_4)\n",
    "\n",
    "text_generated_4=text_generated_4.lower()"
   ]
  },
  {
   "cell_type": "markdown",
   "id": "7ffdeb8f",
   "metadata": {},
   "source": [
    "# tokens\n"
   ]
  },
  {
   "cell_type": "code",
   "execution_count": 5,
   "id": "eca46508",
   "metadata": {
    "scrolled": false
   },
   "outputs": [],
   "source": [
    "tokens_1 = text_generated_1.split()\n",
    "\n",
    "tokens_2 = text_generated_2.split()\n",
    "\n",
    "tokens_3 = text_generated_3.split()\n",
    "\n",
    "tokens_4 = text_generated_4.split()\n"
   ]
  },
  {
   "cell_type": "markdown",
   "id": "b558b3cb",
   "metadata": {},
   "source": [
    "## Convert Docs to Lists"
   ]
  },
  {
   "cell_type": "code",
   "execution_count": 14,
   "id": "9e1ec614",
   "metadata": {},
   "outputs": [
    {
     "data": {
      "text/plain": [
       "['Congress including look pick shoulder beautiful.',\n",
       " 'Such impact management. Leave radio myself person direction.',\n",
       " 'Use beautiful establish certain manage table manager. Generation identify accept. Now piece keep same as administration.',\n",
       " 'Audience reality although new hot million travel. Attorney mother pay address its up evidence.',\n",
       " 'Water bad class everything reach at. Mention again choose usually step. Skill position theory role make force personal.']"
      ]
     },
     "execution_count": 14,
     "metadata": {},
     "output_type": "execute_result"
    }
   ],
   "source": [
    "doc_list_1 = text_generated_1.splitlines()\n",
    "\n",
    "doc_list_2 = text_generated_2.splitlines()\n",
    "\n",
    "doc_list_3 = text_generated_3.splitlines()\n",
    "\n",
    "doc_list_4 = text_generated_4.splitlines()\n",
    "doc_list_4"
   ]
  },
  {
   "cell_type": "markdown",
   "id": "6882b590",
   "metadata": {},
   "source": [
    "# Stemming & remove stop words"
   ]
  },
  {
   "cell_type": "code",
   "execution_count": 7,
   "id": "0d888718",
   "metadata": {},
   "outputs": [
    {
     "name": "stderr",
     "output_type": "stream",
     "text": [
      "[nltk_data] Downloading package stopwords to\n",
      "[nltk_data]     C:\\Users\\pc\\AppData\\Roaming\\nltk_data...\n",
      "[nltk_data]   Package stopwords is already up-to-date!\n"
     ]
    }
   ],
   "source": [
    "import nltk\n",
    "from nltk.stem import PorterStemmer\n",
    "from nltk.corpus import stopwords\n",
    "nltk.download('stopwords')\n",
    "stop_words = stopwords.words('english')\n",
    "\n",
    "# Initialize Porter stemmer\n",
    "stemmer = PorterStemmer"
   ]
  },
  {
   "cell_type": "code",
   "execution_count": 15,
   "id": "e467a477",
   "metadata": {},
   "outputs": [
    {
     "data": {
      "text/plain": [
       "['war',\n",
       " 'speech',\n",
       " 'rang',\n",
       " 'room',\n",
       " 'page',\n",
       " 'tough',\n",
       " 'thought',\n",
       " 'question',\n",
       " 'valu',\n",
       " 'manag',\n",
       " 'cultur',\n",
       " 'democrat',\n",
       " 'simpl',\n",
       " 'rich',\n",
       " 'least',\n",
       " 'administr',\n",
       " 'maintain',\n",
       " 'air',\n",
       " 'standard',\n",
       " 'true',\n",
       " 'back',\n",
       " 'task',\n",
       " 'around',\n",
       " 'big',\n",
       " 'bed',\n",
       " 'relationship',\n",
       " 'purpos',\n",
       " 'rule',\n",
       " 'drive',\n",
       " 'style',\n",
       " 'return',\n",
       " 'move',\n",
       " 'still',\n",
       " 'commun',\n",
       " 'age',\n",
       " 'reach',\n",
       " 'effort',\n",
       " 'reflect',\n",
       " 'feder',\n",
       " 'sound',\n",
       " 'music',\n",
       " 'great',\n",
       " 'start',\n",
       " 'appli',\n",
       " 'happen',\n",
       " 'expect',\n",
       " 'artist',\n",
       " 'pass',\n",
       " 'though',\n",
       " 'far',\n",
       " 'product',\n",
       " 'gener',\n",
       " 'peac',\n",
       " 'school',\n",
       " 'indic',\n",
       " 'key',\n",
       " 'huge',\n",
       " 'suggest']"
      ]
     },
     "execution_count": 15,
     "metadata": {},
     "output_type": "execute_result"
    }
   ],
   "source": [
    "stemmed_tokens_1=[stemmer().stem(token)for token in tokens_1 if token not in stop_words]\n",
    "\n",
    "stemmed_tokens_2=[stemmer().stem(token)for token in tokens_2 if token not in stop_words]\n",
    "\n",
    "stemmed_tokens_3=[stemmer().stem(token)for token in tokens_3 if token not in stop_words]\n",
    "\n",
    "stemmed_tokens_4=[stemmer().stem(token)for token in tokens_4 if token not in stop_words]\n",
    "\n",
    "stemmed_tokens_4"
   ]
  },
  {
   "cell_type": "markdown",
   "id": "0248f6fa",
   "metadata": {},
   "source": [
    "# Get Unique Words After Stemming"
   ]
  },
  {
   "cell_type": "code",
   "execution_count": 9,
   "id": "9208d0e7",
   "metadata": {},
   "outputs": [],
   "source": [
    "unique_1 = set(stemmed_tokens_1)\n",
    "\n",
    "unique_2 = set(stemmed_tokens_2)\n",
    "\n",
    "unique_3 = set(stemmed_tokens_3)\n",
    "\n",
    "unique_4 = set(stemmed_tokens_4)"
   ]
  },
  {
   "cell_type": "markdown",
   "id": "fa8855b4",
   "metadata": {},
   "source": [
    "# Get TF-IDF"
   ]
  },
  {
   "cell_type": "code",
   "execution_count": 16,
   "id": "e782a28a",
   "metadata": {},
   "outputs": [
    {
     "name": "stdout",
     "output_type": "stream",
     "text": [
      "Feature names: ['administr' 'age' 'air' 'appli' 'around' 'artist' 'back' 'bed' 'big'\n",
      " 'commun' 'cultur' 'democrat' 'drive' 'effort' 'expect' 'far' 'feder'\n",
      " 'gener' 'great' 'happen' 'huge' 'indic' 'key' 'least' 'maintain' 'manag'\n",
      " 'move' 'music' 'page' 'pass' 'peac' 'product' 'purpos' 'question' 'rang'\n",
      " 'reach' 'reflect' 'relationship' 'return' 'rich' 'room' 'rule' 'school'\n",
      " 'simpl' 'sound' 'speech' 'standard' 'start' 'still' 'style' 'suggest'\n",
      " 'task' 'though' 'thought' 'tough' 'true' 'valu' 'war']\n",
      "TF-IDF matrix:\n",
      "[[0. 0. 0. ... 0. 0. 1.]\n",
      " [0. 0. 0. ... 0. 0. 0.]\n",
      " [0. 0. 0. ... 0. 0. 0.]\n",
      " ...\n",
      " [0. 0. 0. ... 0. 0. 0.]\n",
      " [0. 0. 0. ... 0. 0. 0.]\n",
      " [0. 0. 0. ... 0. 0. 0.]]\n"
     ]
    }
   ],
   "source": [
    "from sklearn.feature_extraction.text import TfidfVectorizer\n",
    "\n",
    "tfidf_vectorizer = TfidfVectorizer()\n",
    "\n",
    "\n",
    "tfidf_features = tfidf_vectorizer.fit_transform(stemmed_tokens_4)\n",
    "\n",
    "print(\"Feature names:\", tfidf_vectorizer.get_feature_names_out())\n",
    "\n",
    "print(\"TF-IDF matrix:\")\n",
    "print(tfidf_features.toarray())"
   ]
  },
  {
   "cell_type": "code",
   "execution_count": null,
   "id": "6e42d811",
   "metadata": {},
   "outputs": [],
   "source": []
  },
  {
   "cell_type": "code",
   "execution_count": null,
   "id": "fc83c6aa",
   "metadata": {},
   "outputs": [],
   "source": []
  },
  {
   "cell_type": "code",
   "execution_count": null,
   "id": "1911f624",
   "metadata": {},
   "outputs": [],
   "source": []
  },
  {
   "cell_type": "code",
   "execution_count": null,
   "id": "2ad05757",
   "metadata": {},
   "outputs": [],
   "source": []
  }
 ],
 "metadata": {
  "celltoolbar": "Raw Cell Format",
  "kernelspec": {
   "display_name": "Python 3 (ipykernel)",
   "language": "python",
   "name": "python3"
  },
  "language_info": {
   "codemirror_mode": {
    "name": "ipython",
    "version": 3
   },
   "file_extension": ".py",
   "mimetype": "text/x-python",
   "name": "python",
   "nbconvert_exporter": "python",
   "pygments_lexer": "ipython3",
   "version": "3.11.5"
  }
 },
 "nbformat": 4,
 "nbformat_minor": 5
}
